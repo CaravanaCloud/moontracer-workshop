{
 "cells": [
  {
   "cell_type": "markdown",
   "metadata": {
    "pycharm": {
     "is_executing": false,
     "name": "#%%\n"
    }
   },
   "source": [
    "# Welcome to MoonTracer\n"
   ]
  },
  {
   "cell_type": "markdown",
   "metadata": {},
   "source": [
    "![MoonTracerDevice](./moontracers.jpg)"
   ]
  },
  {
   "cell_type": "markdown",
   "metadata": {},
   "source": [
    "We are very excited about your first day with us in lunar energy technology. \n",
    "\n",
    "With our innovations, the moon can be tracked more accurately and precisely than ever. Making energy collection more efficient and reliable is critical for all businesses that depend on lunar energy. However, harvesting the moon is not easy. Weather conditions, lack of moon visibility, and other circumstances can cause battery outages, motor anomalies, and other failures. This notebook contains data collected directly from thousands of our devices and the basics of our technology. \n",
    "\n",
    "Your job is to prevent issues and ensure timely maintenance of our fleet of moon tracing devices. \n",
    "\n",
    "Ready?"
   ]
  },
  {
   "cell_type": "markdown",
   "metadata": {},
   "source": [
    "# Before we begin..."
   ]
  },
  {
   "cell_type": "markdown",
   "metadata": {},
   "source": [
    "## Disclaimers"
   ]
  },
  {
   "cell_type": "markdown",
   "metadata": {},
   "source": [
    "Any similarity to name, character, history of any person or institution is entirely coincidental and unintentional."
   ]
  },
  {
   "cell_type": "markdown",
   "metadata": {},
   "source": [
    "Using cloud services may incur in costs. Make sure you delete all resources after finishing your work."
   ]
  },
  {
   "cell_type": "markdown",
   "metadata": {},
   "source": [
    "Only run this workshop on accounts prepared for educational or personal purposes."
   ]
  },
  {
   "cell_type": "markdown",
   "metadata": {},
   "source": [
    "## Using jupyter notebooks"
   ]
  },
  {
   "cell_type": "markdown",
   "metadata": {},
   "source": [
    "This set of notebooks is designed to guide you through developing Machine Learning models and applications using data from Monntracer devices.\n",
    "\n",
    "Executing code in notebooks is simple:\n",
    "* Read the text cells or execute each code cell. Pressing the play symbol on the menu bar or the shift+enter keys will execute the selected cell.\n",
    "* Each notebook builds upon the concepts and executions of the previous one. Go through them in order. At the end of each notebook, you'll find the link to the next one.\n",
    "* You can read the code's output below each cell or execute it using the menu above or shift+enter. Before executing a cell, understand its code and execute previous cells.\n",
    "* After you are finished, delete created resources to avoid incurring unnecessary costs, especially notebook instances and inference endpoints.\n",
    "\n",
    "Here, use the cell below to practice. Try uncommenting the code below, take a deep breath, and execute it!"
   ]
  },
  {
   "cell_type": "code",
   "execution_count": null,
   "metadata": {},
   "outputs": [],
   "source": [
    "import this"
   ]
  },
  {
   "cell_type": "markdown",
   "metadata": {},
   "source": [
    "Visit https://jupyter.org/ for more information about developing with jupyter notebooks."
   ]
  },
  {
   "cell_type": "markdown",
   "metadata": {},
   "source": [
    "## Pre-requisites"
   ]
  },
  {
   "cell_type": "markdown",
   "metadata": {},
   "source": [
    "Here are some housekeeping tasks that are usually necessary in the initialization of the development enviroment.\n",
    "\n",
    "Update pip:"
   ]
  },
  {
   "cell_type": "code",
   "execution_count": null,
   "metadata": {},
   "outputs": [],
   "source": [
    "! pip install --upgrade pip"
   ]
  },
  {
   "cell_type": "markdown",
   "metadata": {},
   "source": [
    "Install the python libraries used in this workshop:"
   ]
  },
  {
   "cell_type": "code",
   "execution_count": null,
   "metadata": {},
   "outputs": [],
   "source": [
    "! pip3 install --upgrade numexpr pandas numpy matplotlib boto3 awscli sagemaker pickleshare"
   ]
  },
  {
   "cell_type": "markdown",
   "metadata": {},
   "source": [
    "# Are you ready?"
   ]
  },
  {
   "cell_type": "markdown",
   "metadata": {},
   "source": [
    "Go ahead and open the first notebook. \n",
    "\n",
    "We'll perform some [exploratory data analysis](mt-eda.ipynb) to understand the data, its content and patterns.\n",
    "\n",
    "Besides the content in this workshop, check the [sagemaker examples](https://github.com/aws/amazon-sagemaker-examples) repository for notebooks demonstrating more algorithms and features."
   ]
  },
  {
   "cell_type": "markdown",
   "metadata": {},
   "source": [
    "# Have you been here before?"
   ]
  },
  {
   "cell_type": "markdown",
   "metadata": {},
   "source": [
    "If you'd like, navigate directly to the desired notebook:"
   ]
  },
  {
   "cell_type": "markdown",
   "metadata": {},
   "source": [
    "1. [Exploratory Data Analysis](mt-eda.ipynb)\n",
    "1. [Battery Forecasting with Deep AR](mt-battery-deepar.ipynb)\n",
    "1. [Motor Anomaly Detection](mt-motor-anomaly.ipynb)\n",
    "1. [Motor Predictive Maintenance](mt-motor-maintenance.ipynb)\n",
    "1. [Cleanup & Cost Control](mt-cleanup.ipynb)\n",
    "1. [References](mt-references.ipynb)"
   ]
  }
 ],
 "metadata": {
  "instance_type": "ml.t3.medium",
  "kernelspec": {
   "display_name": "Python 3 (ipykernel)",
   "language": "python",
   "name": "python3"
  },
  "language_info": {
   "codemirror_mode": {
    "name": "ipython",
    "version": 3
   },
   "file_extension": ".py",
   "mimetype": "text/x-python",
   "name": "python",
   "nbconvert_exporter": "python",
   "pygments_lexer": "ipython3",
   "version": "3.12.2"
  },
  "pycharm": {
   "stem_cell": {
    "cell_type": "raw",
    "metadata": {
     "collapsed": false
    },
    "source": []
   }
  }
 },
 "nbformat": 4,
 "nbformat_minor": 4
}
